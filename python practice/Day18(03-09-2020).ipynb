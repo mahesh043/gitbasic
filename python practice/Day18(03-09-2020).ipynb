{
 "cells": [
  {
   "cell_type": "code",
   "execution_count": 10,
   "metadata": {},
   "outputs": [
    {
     "name": "stdout",
     "output_type": "stream",
     "text": [
      "emter a number1\n",
      "enter end value10\n",
      "2 3 5 7 "
     ]
    }
   ],
   "source": [
    "# print the in between prime numbers\n",
    "first=int(input(\"emter a number\"))\n",
    "end=int(input(\"enter end value\"))\n",
    "for i in range(first,end+1):   #1 2 3 4 5 6 7 8 9 10 11\n",
    "    if(i>1):\n",
    "        c=0\n",
    "        for j in range(2,i):\n",
    "            if(i%j==0):\n",
    "                c=c+1\n",
    "        if(c==0):\n",
    "            print(i,end=\" \")"
   ]
  },
  {
   "cell_type": "code",
   "execution_count": null,
   "metadata": {},
   "outputs": [],
   "source": [
    "# Given two strings, return their concatenation,except omit the first char of each \n",
    "# ex: one two ==>new; bhanu prakesh==>hanurkash"
   ]
  },
  {
   "cell_type": "code",
   "execution_count": 12,
   "metadata": {},
   "outputs": [
    {
     "name": "stdout",
     "output_type": "stream",
     "text": [
      "enter a stringone\n",
      "enter another stringtwo\n",
      "newo\n"
     ]
    }
   ],
   "source": [
    "s=input(\"enter a string\")\n",
    "s1=input(\"enter another string\")\n",
    "s3=s[1:]+s1[1:]\n",
    "print(s3)"
   ]
  },
  {
   "cell_type": "code",
   "execution_count": 18,
   "metadata": {},
   "outputs": [
    {
     "name": "stdout",
     "output_type": "stream",
     "text": [
      "enter  stringone\n",
      "enter a second stringtwo\n"
     ]
    },
    {
     "data": {
      "text/plain": [
       "'newo'"
      ]
     },
     "execution_count": 18,
     "metadata": {},
     "output_type": "execute_result"
    }
   ],
   "source": [
    "def concat(s,s1):\n",
    "    s2= s[1:]+s1[1:]\n",
    "    return s2\n",
    "concat(input(\"enter  string\"),input(\"enter a second string\"))"
   ]
  },
  {
   "cell_type": "code",
   "execution_count": 24,
   "metadata": {},
   "outputs": [
    {
     "data": {
      "text/plain": [
       "'ne'"
      ]
     },
     "execution_count": 24,
     "metadata": {},
     "output_type": "execute_result"
    }
   ],
   "source": [
    "s=\"one\"\n",
    "s[1:]"
   ]
  },
  {
   "cell_type": "code",
   "execution_count": 25,
   "metadata": {},
   "outputs": [],
   "source": [
    "f=open(\"file,txt\",\"w\")\n",
    "data=\"hii hello hii hello everyone\"\n",
    "f.write(data)\n",
    "f.close()"
   ]
  },
  {
   "cell_type": "code",
   "execution_count": 31,
   "metadata": {},
   "outputs": [
    {
     "name": "stdout",
     "output_type": "stream",
     "text": [
      "['welcome', 'to', 'python', 'internship', 'programmhellohello']\n",
      "['hello']\n",
      "{'welcome': 1, 'to': 1, 'python': 1, 'internship': 1, 'programmhellohello': 1, 'hello': 1}\n"
     ]
    }
   ],
   "source": [
    "d={}\n",
    "f=open(\"file.txt\",\"r\")\n",
    "data=f.readlines()\n",
    "#print(data)\n",
    "for line in data:\n",
    "    words=line.split()\n",
    "    print(words)\n",
    "    for word in words:\n",
    "        if word not in d:\n",
    "            d[word]=1\n",
    "        else:\n",
    "            d[word]+=1\n",
    "print(d)\n",
    "f.close()"
   ]
  },
  {
   "cell_type": "code",
   "execution_count": 40,
   "metadata": {},
   "outputs": [
    {
     "name": "stdout",
     "output_type": "stream",
     "text": [
      "enter the data40\n"
     ]
    }
   ],
   "source": [
    "# range as 3\n",
    "# 10\n",
    "# 20\n",
    "# 30\n",
    "# 60\n",
    "f=open(\"su.txt\",\"a\")\n",
    "f.write((input(\"enter the data\"))+\"\\n\")\n",
    "f.close()"
   ]
  },
  {
   "cell_type": "code",
   "execution_count": null,
   "metadata": {},
   "outputs": [],
   "source": []
  },
  {
   "cell_type": "code",
   "execution_count": null,
   "metadata": {},
   "outputs": [],
   "source": []
  }
 ],
 "metadata": {
  "kernelspec": {
   "display_name": "Python 3",
   "language": "python",
   "name": "python3"
  },
  "language_info": {
   "codemirror_mode": {
    "name": "ipython",
    "version": 3
   },
   "file_extension": ".py",
   "mimetype": "text/x-python",
   "name": "python",
   "nbconvert_exporter": "python",
   "pygments_lexer": "ipython3",
   "version": "3.7.4"
  }
 },
 "nbformat": 4,
 "nbformat_minor": 4
}
