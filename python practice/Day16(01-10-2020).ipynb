{
 "cells": [
  {
   "cell_type": "markdown",
   "metadata": {},
   "source": [
    "### Filehandling\n",
    "* what is a file\n",
    "* what is file handling\n",
    "* file method\n",
    "* Different modes\n",
    "* use of \"with statment\n",
    "* Files:\n",
    "- files is saved in some location on loacl system to store some information\n",
    "- ex:\n",
    "     - .txt,.jpg,.html,.ipyb,.png,.pdf\n",
    "- File handling:\n",
    "- creating ,reading,update, delete\n",
    "- create\n",
    "- open\n",
    " - working\n",
    " - close\n",
    "* File methods:\n",
    "    - open()\n",
    "         - syntax : file_obj-open(\"filename\",\"mode\")\n",
    "    - read()\n",
    "         - syntex : file_obj.read(size)\n",
    "    - write()\n",
    "         - syntex : file_obj.write(data)\n",
    "    - close()\n",
    "         - syntex : file_obj.close()\n",
    "     - readlines()\n",
    "          - syntex : file_obj.readline()\n",
    "          \n",
    "- Different Modes:\n",
    "    - open(\"filename\",\"mode\")\n",
    "    - open(\"filename\",\"r\")\n",
    "    - open(\"filename\",\"w\")\n",
    "    - open(\"filename\",\"a\")        \n",
    "    - open(\"filename\",\"r+\") \n",
    "    - open(\"filename\",\"w+\") "
   ]
  },
  {
   "cell_type": "code",
   "execution_count": 7,
   "metadata": {},
   "outputs": [
    {
     "name": "stdout",
     "output_type": "stream",
     "text": [
      "Done\n"
     ]
    }
   ],
   "source": [
    "# creating a file\n",
    "f = open(\"file.txt\",\"w\")\n",
    "data = \"welcome to python internship programm\"\n",
    "f.write(data)\n",
    "print(\"Done\")\n",
    "f.close()"
   ]
  },
  {
   "cell_type": "code",
   "execution_count": 5,
   "metadata": {},
   "outputs": [
    {
     "name": "stdout",
     "output_type": "stream",
     "text": [
      "Done\n"
     ]
    }
   ],
   "source": [
    "# creating a file\n",
    "f = open(\"file.txt\",\"w\")\n",
    "data = \"welcome to python internship programm\"\n",
    "f.write(data)\n",
    "print(\"Done\")\n",
    "f.close()"
   ]
  },
  {
   "cell_type": "code",
   "execution_count": 6,
   "metadata": {},
   "outputs": [
    {
     "name": "stdout",
     "output_type": "stream",
     "text": [
      "welcome to python internship programm\n"
     ]
    }
   ],
   "source": [
    "# reading the data\n",
    "file = open(\"file.txt\",\"r\")\n",
    "data1 = file.read()\n",
    "print(data1)\n",
    "file.close()\n"
   ]
  },
  {
   "cell_type": "code",
   "execution_count": 10,
   "metadata": {},
   "outputs": [
    {
     "name": "stdout",
     "output_type": "stream",
     "text": [
      "complete\n"
     ]
    }
   ],
   "source": [
    "# append some data\n",
    "file = open(\"file.txt\",\"a\")\n",
    "data1 =\"\\n\"+\"hello\"\n",
    "file.write(data1)\n",
    "print(\"complete\")\n",
    "file.close()\n"
   ]
  },
  {
   "cell_type": "code",
   "execution_count": 12,
   "metadata": {},
   "outputs": [
    {
     "name": "stdout",
     "output_type": "stream",
     "text": [
      "welcome to python internship programmhellohello\n",
      "hello\n"
     ]
    }
   ],
   "source": [
    "with open(\"file.txt\",\"r\") as file:\n",
    "    data = file.read()\n",
    "    print(data)\n",
    "\n",
    "    "
   ]
  },
  {
   "cell_type": "code",
   "execution_count": 13,
   "metadata": {},
   "outputs": [
    {
     "name": "stdout",
     "output_type": "stream",
     "text": [
      "enter somedataApssdc is conducting online workshops\n",
      "completed....................\n"
     ]
    }
   ],
   "source": [
    "file = open(\"file2.txt\",\"w\")\n",
    "file.write(input(\"enter somedata\"))\n",
    "print(\"completed\"+(\".\"*20))\n",
    "file.close()"
   ]
  },
  {
   "cell_type": "code",
   "execution_count": 14,
   "metadata": {},
   "outputs": [],
   "source": [
    "# \\replace with \\\\\n",
    "# \\replace with/\n",
    "# r -> raepath or rawlocation,r\"D:\\\"\""
   ]
  },
  {
   "cell_type": "code",
   "execution_count": 15,
   "metadata": {},
   "outputs": [
    {
     "ename": "FileNotFoundError",
     "evalue": "[Errno 2] No such file or directory: ''",
     "output_type": "error",
     "traceback": [
      "\u001b[1;31m---------------------------------------------------------------------------\u001b[0m",
      "\u001b[1;31mFileNotFoundError\u001b[0m                         Traceback (most recent call last)",
      "\u001b[1;32m<ipython-input-15-e45a84e0944f>\u001b[0m in \u001b[0;36m<module>\u001b[1;34m\u001b[0m\n\u001b[1;32m----> 1\u001b[1;33m \u001b[0mopen\u001b[0m\u001b[1;33m(\u001b[0m\u001b[1;34m\"\"\u001b[0m\u001b[1;33m)\u001b[0m\u001b[1;33m\u001b[0m\u001b[1;33m\u001b[0m\u001b[0m\n\u001b[0m",
      "\u001b[1;31mFileNotFoundError\u001b[0m: [Errno 2] No such file or directory: ''"
     ]
    }
   ],
   "source": [
    "open(\"\")"
   ]
  },
  {
   "cell_type": "markdown",
   "metadata": {},
   "source": [
    "- file objective methods\n",
    "    - seek()\n",
    "        - used to change the cursor position\n",
    "    - tell()\n",
    "         - used to know the cursor position"
   ]
  },
  {
   "cell_type": "code",
   "execution_count": 16,
   "metadata": {},
   "outputs": [
    {
     "name": "stdout",
     "output_type": "stream",
     "text": [
      "11\n",
      "welcome to \n",
      "20\n"
     ]
    }
   ],
   "source": [
    "f = open(\"file.txt\",\"r\")\n",
    "data=f.read(11)\n",
    "print(f.tell())\n",
    "print(data)\n",
    "f.seek(20)\n",
    "print(f.tell())\n",
    "f.close()\n"
   ]
  },
  {
   "cell_type": "markdown",
   "metadata": {},
   "source": [
    "- task :\n",
    "    - read the data in reverse order"
   ]
  },
  {
   "cell_type": "code",
   "execution_count": 21,
   "metadata": {},
   "outputs": [
    {
     "name": "stdout",
     "output_type": "stream",
     "text": [
      "olleh\n",
      "ollehollehmmargorp pihsnretni nohtyp ot emoclew\n"
     ]
    }
   ],
   "source": [
    "with open(\"file.txt\",\"r\") as file:\n",
    "    data = file.read()\n",
    "    print(data[::-1])"
   ]
  },
  {
   "cell_type": "code",
   "execution_count": 20,
   "metadata": {},
   "outputs": [
    {
     "data": {
      "text/plain": [
       "'gnirts'"
      ]
     },
     "execution_count": 20,
     "metadata": {},
     "output_type": "execute_result"
    }
   ],
   "source": [
    "a = \"string\"\n",
    "a[::-1]"
   ]
  },
  {
   "cell_type": "code",
   "execution_count": 22,
   "metadata": {},
   "outputs": [
    {
     "name": "stdout",
     "output_type": "stream",
     "text": [
      "['welcome to python internship programmhellohello\\n', 'hello']\n"
     ]
    }
   ],
   "source": [
    "with open(\"file.txt\",\"r\") as file:\n",
    "    data = file.readlines()\n",
    "    print(data)"
   ]
  },
  {
   "cell_type": "code",
   "execution_count": 23,
   "metadata": {},
   "outputs": [
    {
     "name": "stdout",
     "output_type": "stream",
     "text": [
      "welcome to python internship programmhellohello\n",
      "\n",
      "hello\n"
     ]
    }
   ],
   "source": [
    "with open(\"file.txt\",\"r\") as file:\n",
    "    data = file.readlines()\n",
    "    for i in data:\n",
    "        print(i)"
   ]
  },
  {
   "cell_type": "code",
   "execution_count": 24,
   "metadata": {},
   "outputs": [],
   "source": [
    "# split the data  and fine how many words are present in each line"
   ]
  },
  {
   "cell_type": "code",
   "execution_count": 25,
   "metadata": {},
   "outputs": [
    {
     "name": "stdout",
     "output_type": "stream",
     "text": [
      "['welcome', 'to', 'python', 'internship', 'programmhellohello\\n']\n",
      "5\n",
      "['hello']\n",
      "1\n"
     ]
    }
   ],
   "source": [
    "with open(\"file.txt\",\"r\") as file:\n",
    "    data = file.readlines()\n",
    "    for lines in data:\n",
    "        words = lines.split(\" \")\n",
    "        print(words)\n",
    "        print(len(words))\n",
    "        "
   ]
  },
  {
   "cell_type": "code",
   "execution_count": 26,
   "metadata": {},
   "outputs": [
    {
     "name": "stdout",
     "output_type": "stream",
     "text": [
      "w\n",
      "e\n",
      "l\n",
      "c\n",
      "o\n",
      "m\n",
      "e\n",
      " \n",
      "t\n",
      "o\n",
      " \n",
      "p\n",
      "y\n",
      "t\n",
      "h\n",
      "o\n",
      "n\n",
      " \n",
      "i\n",
      "n\n",
      "t\n",
      "e\n",
      "r\n",
      "n\n",
      "s\n",
      "h\n",
      "i\n",
      "p\n",
      " \n",
      "p\n",
      "r\n",
      "o\n",
      "g\n",
      "r\n",
      "a\n",
      "m\n",
      "m\n",
      "h\n",
      "e\n",
      "l\n",
      "l\n",
      "o\n",
      "h\n",
      "e\n",
      "l\n",
      "l\n",
      "o\n",
      "\n",
      "\n",
      "h\n",
      "e\n",
      "l\n",
      "l\n",
      "o\n"
     ]
    }
   ],
   "source": [
    "with open(\"file.txt\",\"r\") as file:\n",
    "    data = file.read()\n",
    "    for ele in data:\n",
    "        print(ele)"
   ]
  },
  {
   "cell_type": "code",
   "execution_count": 27,
   "metadata": {},
   "outputs": [],
   "source": [
    "# find the length of each word and also print that word"
   ]
  },
  {
   "cell_type": "code",
   "execution_count": 36,
   "metadata": {},
   "outputs": [
    {
     "name": "stdout",
     "output_type": "stream",
     "text": [
      "welcome ----> 7\n",
      "to ----> 2\n",
      "python ----> 6\n",
      "internship ----> 10\n",
      "programmhellohello\n",
      " ----> 19\n",
      "hello ----> 5\n"
     ]
    }
   ],
   "source": [
    "with open(\"file.txt\",\"r\") as file:\n",
    "    data = file.readlines()\n",
    "    for lines in data:\n",
    "        words = lines.split(\" \")\n",
    "        #print(words)\n",
    "        #print(len(words))\n",
    "        for ele in words:\n",
    "            print(ele,\"---->\",len(ele))\n",
    "        "
   ]
  },
  {
   "cell_type": "markdown",
   "metadata": {},
   "source": [
    "# find out the frequency of each word\n",
    "    \"hii hello hii hello everyone\"\n",
    "# d={\"hii\":2,\"hello\":2,\"everyone\":1}    "
   ]
  },
  {
   "cell_type": "code",
   "execution_count": 38,
   "metadata": {},
   "outputs": [
    {
     "data": {
      "text/plain": [
       "{'hii': 2, 'hello': 4, 'everyone': 1, 'mahesh': 1}"
      ]
     },
     "execution_count": 38,
     "metadata": {},
     "output_type": "execute_result"
    }
   ],
   "source": [
    "a = [\"hii\",\"hello\",\"hii\",\"hello\",\"hello\",\"everyone\",\"hello\",\"mahesh\"]\n",
    "d={} \n",
    "for i in a:\n",
    "    d[i]=a.count(i)\n",
    "d    "
   ]
  },
  {
   "cell_type": "code",
   "execution_count": null,
   "metadata": {},
   "outputs": [],
   "source": []
  }
 ],
 "metadata": {
  "kernelspec": {
   "display_name": "Python 3",
   "language": "python",
   "name": "python3"
  },
  "language_info": {
   "codemirror_mode": {
    "name": "ipython",
    "version": 3
   },
   "file_extension": ".py",
   "mimetype": "text/x-python",
   "name": "python",
   "nbconvert_exporter": "python",
   "pygments_lexer": "ipython3",
   "version": "3.7.4"
  }
 },
 "nbformat": 4,
 "nbformat_minor": 4
}
