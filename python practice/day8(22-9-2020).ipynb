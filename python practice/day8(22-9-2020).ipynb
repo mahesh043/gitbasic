{
 "cells": [
  {
   "cell_type": "markdown",
   "metadata": {},
   "source": [
    "- To check wheather given number is positive number or negative number?\n",
    "    - first you to read a number from user\n",
    "    - then write logic to check that number is positive or not\n",
    "- To check wheather given number is even or not    \n",
    "    "
   ]
  },
  {
   "cell_type": "code",
   "execution_count": 7,
   "metadata": {},
   "outputs": [
    {
     "name": "stdout",
     "output_type": "stream",
     "text": [
      "enter a value:0\n",
      "given is positive\n"
     ]
    }
   ],
   "source": [
    "a=int(input(\"enter a value:\"))\n",
    "if(a>=0):\n",
    "    print(\"given is positive\")\n",
    "else:\n",
    "    print(\"given number is nrgative number\")"
   ]
  },
  {
   "cell_type": "code",
   "execution_count": 10,
   "metadata": {},
   "outputs": [
    {
     "name": "stdout",
     "output_type": "stream",
     "text": [
      "enter a value:8\n",
      "given number is even\n"
     ]
    }
   ],
   "source": [
    "a=int(input(\"enter a value:\"))\n",
    "if(a%2==0):\n",
    "    print(\"given number is even\")\n",
    "else:\n",
    "    print(\"given number is odd\")"
   ]
  },
  {
   "cell_type": "markdown",
   "metadata": {},
   "source": [
    "- To check wheather given year is leap year or not?\n",
    "- To check wheather given character is vowel or consonant?\n",
    "- To check wheather given two values are eqaul or not?\n",
    "- To find biggest of two numbers?\n",
    "- To find the biggest of three numbers?\n",
    "- To calculate the student grading system?\n",
    "- To print the 1 to n natural numbers in increment order?\n",
    "- To print the 1 to n natural numbers in decrement order?\n",
    "- To print the sum of 1 to n natural numbers?\n",
    "- To print the even numbers between 1 to n natural numbers?\n",
    "- To print the odd numbers between 1 to n natural numbers?\n",
    "- To print the sum of even natural numbers?\n",
    "- To print the sum of odd natural numbers?\n"
   ]
  },
  {
   "cell_type": "code",
   "execution_count": 20,
   "metadata": {},
   "outputs": [],
   "source": [
    "def even_odd(n):\n",
    "    if(n%2==0):\n",
    "        return \"even\"\n",
    "    else:\n",
    "        return \"odd\"\n",
    "    "
   ]
  },
  {
   "cell_type": "code",
   "execution_count": 22,
   "metadata": {},
   "outputs": [
    {
     "name": "stdout",
     "output_type": "stream",
     "text": [
      "3\n",
      "odd\n"
     ]
    }
   ],
   "source": [
    "a=int(input())\n",
    "result= even_odd(a)\n",
    "print(result)"
   ]
  },
  {
   "cell_type": "code",
   "execution_count": null,
   "metadata": {},
   "outputs": [],
   "source": []
  },
  {
   "cell_type": "code",
   "execution_count": 16,
   "metadata": {},
   "outputs": [],
   "source": [
    "def positive_negative(n):\n",
    "    if n>=0:\n",
    "        return \"positive\"\n",
    "    else:\n",
    "        return \"negative\""
   ]
  },
  {
   "cell_type": "code",
   "execution_count": 18,
   "metadata": {},
   "outputs": [
    {
     "name": "stdout",
     "output_type": "stream",
     "text": [
      "7\n",
      "positive\n"
     ]
    }
   ],
   "source": [
    "a=int(input())\n",
    "result= positive_negative(a)\n",
    "print(result)"
   ]
  },
  {
   "cell_type": "code",
   "execution_count": 21,
   "metadata": {},
   "outputs": [],
   "source": [
    "#To check wheather given year is leap year or not?\n",
    "def leap_year(n):\n",
    "    if(n%4==0):\n",
    "        return \"leap year\"\n",
    "    else:\n",
    "        return \"not leap year\""
   ]
  },
  {
   "cell_type": "code",
   "execution_count": 23,
   "metadata": {},
   "outputs": [
    {
     "name": "stdout",
     "output_type": "stream",
     "text": [
      "1996\n",
      "leap year\n"
     ]
    }
   ],
   "source": [
    "a=int(input())\n",
    "result= leap_year(a)\n",
    "print(result)"
   ]
  },
  {
   "cell_type": "code",
   "execution_count": 31,
   "metadata": {},
   "outputs": [],
   "source": [
    "#To check wheather given two values are eqaul or not?\n",
    "def equal(m,n):\n",
    "    if(n==m):\n",
    "        return \"equal\"\n",
    "    else:\n",
    "        return \"not equal\"\n",
    "    "
   ]
  },
  {
   "cell_type": "code",
   "execution_count": 36,
   "metadata": {},
   "outputs": [
    {
     "name": "stdout",
     "output_type": "stream",
     "text": [
      "2\n",
      "2\n",
      "equal\n"
     ]
    }
   ],
   "source": [
    "a=int(input())\n",
    "b=int(input())\n",
    "result= equal(a,b)\n",
    "print(result)"
   ]
  },
  {
   "cell_type": "code",
   "execution_count": 25,
   "metadata": {},
   "outputs": [
    {
     "ename": "IndentationError",
     "evalue": "unexpected indent (<ipython-input-25-177903af9865>, line 3)",
     "output_type": "error",
     "traceback": [
      "\u001b[1;36m  File \u001b[1;32m\"<ipython-input-25-177903af9865>\"\u001b[1;36m, line \u001b[1;32m3\u001b[0m\n\u001b[1;33m    sm = 0\u001b[0m\n\u001b[1;37m    ^\u001b[0m\n\u001b[1;31mIndentationError\u001b[0m\u001b[1;31m:\u001b[0m unexpected indent\n"
     ]
    }
   ],
   "source": [
    "#To print the sum of even natural numbers\n",
    "num= int(input(\"enter a range\"))\n",
    "    sm = 0\n",
    "    for i in range(2,num+1):\n",
    "        if isEven(i):\n",
    "        continue\n",
    "    else:\n",
    "        sm += i\n",
    "print(sm)        \n",
    "        "
   ]
  },
  {
   "cell_type": "code",
   "execution_count": 18,
   "metadata": {},
   "outputs": [
    {
     "name": "stdout",
     "output_type": "stream",
     "text": [
      "10\n",
      "55\n"
     ]
    }
   ],
   "source": [
    "#To print the sum of n natural numbers?\n",
    "def sumofNNaturalNums(n):\n",
    "    sm= 0\n",
    "    for i in range(1,n+1):\n",
    "        sm+=i\n",
    "    return sm\n",
    "    \n",
    "num= int(input())\n",
    "rs = sumofNNaturalNums(num)\n",
    "print(rs)\n",
    "    "
   ]
  },
  {
   "cell_type": "code",
   "execution_count": 20,
   "metadata": {},
   "outputs": [
    {
     "name": "stdout",
     "output_type": "stream",
     "text": [
      "10\n",
      "3628800\n"
     ]
    }
   ],
   "source": [
    "#To print the product of n natural numbers?\n",
    "def productofNNaturalNums(n):\n",
    "    sm= 1\n",
    "    for i in range(1,n+1):\n",
    "        sm*=i\n",
    "    return sm\n",
    "    \n",
    "num= int(input())\n",
    "rs = productofNNaturalNums(num)\n",
    "print(rs)\n",
    "    "
   ]
  },
  {
   "cell_type": "code",
   "execution_count": 31,
   "metadata": {},
   "outputs": [
    {
     "name": "stdout",
     "output_type": "stream",
     "text": [
      "enter a char:t\n",
      "ch is consonant\n"
     ]
    }
   ],
   "source": [
    "#To check wheather given character is vowel or consonant?\n",
    "n = input(\"enter a char:\")\n",
    "if(n == 'a' or n =='e' or n =='i' or n =='o' or n =='u'):\n",
    "    print(\"ch is vowle\")\n",
    "else:\n",
    "    print(\"ch is consonant\")"
   ]
  },
  {
   "cell_type": "code",
   "execution_count": 36,
   "metadata": {},
   "outputs": [
    {
     "name": "stdout",
     "output_type": "stream",
     "text": [
      "w\n",
      "ch is consonant\n"
     ]
    }
   ],
   "source": [
    "li = ['a','e','i','o','u','A','E','O','I','u']\n",
    "ch = input()\n",
    "if ch in li:\n",
    "      print(\"ch is vowle\")\n",
    "else:\n",
    "    print(\"ch is consonant\")"
   ]
  },
  {
   "cell_type": "code",
   "execution_count": null,
   "metadata": {},
   "outputs": [
    {
     "name": "stdout",
     "output_type": "stream",
     "text": [
      "i\n"
     ]
    }
   ],
   "source": [
    "def isvowel(ch):\n",
    "    if ch in li:\n",
    "        return True\n",
    "    else:\n",
    "        return False\n",
    "ch = input()\n",
    "print(isvowel(ch))"
   ]
  },
  {
   "cell_type": "code",
   "execution_count": 34,
   "metadata": {},
   "outputs": [],
   "source": [
    "#To find biggest of two numbers?\n",
    "def big(n,m):\n",
    "    if(n>=m):\n",
    "        return \"n is big\"\n",
    "    else:\n",
    "        return \"m is big\""
   ]
  },
  {
   "cell_type": "code",
   "execution_count": 36,
   "metadata": {},
   "outputs": [
    {
     "name": "stdout",
     "output_type": "stream",
     "text": [
      "80\n",
      "90\n",
      "m is big\n"
     ]
    }
   ],
   "source": [
    "a= int(input())\n",
    "b= int(input())\n",
    "\n",
    "result = big(a,b)\n",
    "print(result)"
   ]
  },
  {
   "cell_type": "code",
   "execution_count": 43,
   "metadata": {},
   "outputs": [],
   "source": [
    "#To find the biggest of three numbers?\n",
    "def biggest(a,b,c):\n",
    "    if (a>b and a>c):\n",
    "        return \"a is big\"\n",
    "    elif (b>c and b>a):\n",
    "        return \"b is big\"\n",
    "    else:\n",
    "        return \"c is big\""
   ]
  },
  {
   "cell_type": "code",
   "execution_count": 45,
   "metadata": {},
   "outputs": [
    {
     "name": "stdout",
     "output_type": "stream",
     "text": [
      "0\n",
      "80\n",
      "90\n",
      "c is big\n"
     ]
    }
   ],
   "source": [
    "n=int(input())\n",
    "m=int(input())\n",
    "q=int(input())\n",
    "result = biggest(n,m,q)\n",
    "print(result)"
   ]
  },
  {
   "cell_type": "code",
   "execution_count": 46,
   "metadata": {},
   "outputs": [
    {
     "ename": "IndentationError",
     "evalue": "expected an indented block (<ipython-input-46-d1236e81d25f>, line 4)",
     "output_type": "error",
     "traceback": [
      "\u001b[1;36m  File \u001b[1;32m\"<ipython-input-46-d1236e81d25f>\"\u001b[1;36m, line \u001b[1;32m4\u001b[0m\n\u001b[1;33m    return \"A grad\"\u001b[0m\n\u001b[1;37m         ^\u001b[0m\n\u001b[1;31mIndentationError\u001b[0m\u001b[1;31m:\u001b[0m expected an indented block\n"
     ]
    }
   ],
   "source": [
    "#To calculate the student grading system?\n",
    "def grading(n):\n",
    "    if(n>=90 and  n<=100):\n",
    "    return \"A grad\"\n",
    "elif(n>=79 and n<=89):\n",
    "    return \"B grad\"\n",
    "elif(n>=59 and n<=69):\n",
    "    return \"C grad\"\n",
    "elif(n>=35 and n<=49):\n",
    "    return \"d grad\"\n",
    "else:\n",
    "    return \"fail\"\n"
   ]
  },
  {
   "cell_type": "code",
   "execution_count": 47,
   "metadata": {},
   "outputs": [
    {
     "name": "stdout",
     "output_type": "stream",
     "text": [
      "80\n"
     ]
    },
    {
     "ename": "NameError",
     "evalue": "name 'grading' is not defined",
     "output_type": "error",
     "traceback": [
      "\u001b[1;31m---------------------------------------------------------------------------\u001b[0m",
      "\u001b[1;31mNameError\u001b[0m                                 Traceback (most recent call last)",
      "\u001b[1;32m<ipython-input-47-22f48e90a35d>\u001b[0m in \u001b[0;36m<module>\u001b[1;34m\u001b[0m\n\u001b[0;32m      1\u001b[0m \u001b[0ma\u001b[0m\u001b[1;33m=\u001b[0m \u001b[0mint\u001b[0m\u001b[1;33m(\u001b[0m\u001b[0minput\u001b[0m\u001b[1;33m(\u001b[0m\u001b[1;33m)\u001b[0m\u001b[1;33m)\u001b[0m\u001b[1;33m\u001b[0m\u001b[1;33m\u001b[0m\u001b[0m\n\u001b[1;32m----> 2\u001b[1;33m \u001b[0mresult\u001b[0m \u001b[1;33m=\u001b[0m \u001b[0mgrading\u001b[0m\u001b[1;33m(\u001b[0m\u001b[0ma\u001b[0m\u001b[1;33m)\u001b[0m\u001b[1;33m\u001b[0m\u001b[1;33m\u001b[0m\u001b[0m\n\u001b[0m\u001b[0;32m      3\u001b[0m \u001b[0mprint\u001b[0m\u001b[1;33m(\u001b[0m\u001b[0mresult\u001b[0m\u001b[1;33m)\u001b[0m\u001b[1;33m\u001b[0m\u001b[1;33m\u001b[0m\u001b[0m\n",
      "\u001b[1;31mNameError\u001b[0m: name 'grading' is not defined"
     ]
    }
   ],
   "source": [
    "a= int(input())\n",
    "result = grading(a)\n",
    "print(result)"
   ]
  },
  {
   "cell_type": "code",
   "execution_count": null,
   "metadata": {},
   "outputs": [],
   "source": []
  }
 ],
 "metadata": {
  "kernelspec": {
   "display_name": "Python 3",
   "language": "python",
   "name": "python3"
  },
  "language_info": {
   "codemirror_mode": {
    "name": "ipython",
    "version": 3
   },
   "file_extension": ".py",
   "mimetype": "text/x-python",
   "name": "python",
   "nbconvert_exporter": "python",
   "pygments_lexer": "ipython3",
   "version": "3.7.4"
  }
 },
 "nbformat": 4,
 "nbformat_minor": 4
}
