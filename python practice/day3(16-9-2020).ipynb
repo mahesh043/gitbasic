{
 "cells": [
  {
   "cell_type": "markdown",
   "metadata": {},
   "source": [
    "# Today concepts\n",
    "## 16-09-2020\n",
    "### jupyter installation\n",
    "    -to install jupyter we have to run a cmd pip install jupyter\n",
    "     -to open jupyter notebook we have to run a cmd in command prompt i.e jupyter note book\n",
    "     main heading\n",
    "         sub heading\n",
    "   <img src='image.jpeg'>  \n",
    "   <table border=\"1\"><tr><td>mahesh</td><td>cnkolanu</td></tr>\n",
    "    <tr><td>bhanu</td><td>tadapali</td></tr></table>"
   ]
  },
  {
   "cell_type": "code",
   "execution_count": 5,
   "metadata": {},
   "outputs": [
    {
     "name": "stdout",
     "output_type": "stream",
     "text": [
      "hi hello\n",
      "I am using jupyter note book\n",
      "i am from apssdc\n"
     ]
    },
    {
     "data": {
      "text/plain": [
       "61"
      ]
     },
     "execution_count": 5,
     "metadata": {},
     "output_type": "execute_result"
    }
   ],
   "source": [
    "print(\"hi hello\")\n",
    "print(\"I am using jupyter note book\")\n",
    "4+7\n",
    "print(\"i am from apssdc\")\n",
    "56+5"
   ]
  },
  {
   "cell_type": "markdown",
   "metadata": {},
   "source": []
  },
  {
   "cell_type": "code",
   "execution_count": null,
   "metadata": {},
   "outputs": [],
   "source": []
  }
 ],
 "metadata": {
  "kernelspec": {
   "display_name": "Python 3",
   "language": "python",
   "name": "python3"
  },
  "language_info": {
   "codemirror_mode": {
    "name": "ipython",
    "version": 3
   },
   "file_extension": ".py",
   "mimetype": "text/x-python",
   "name": "python",
   "nbconvert_exporter": "python",
   "pygments_lexer": "ipython3",
   "version": "3.7.4"
  }
 },
 "nbformat": 4,
 "nbformat_minor": 4
}
