{
 "cells": [
  {
   "cell_type": "markdown",
   "metadata": {},
   "source": [
    "    input.text:\n",
    "    \n",
    "    2 10\n",
    "    5 15\n",
    "   output.text:\n",
    "      \n",
    "      \n",
    "      2 table \n",
    " \n",
    "    "
   ]
  },
  {
   "cell_type": "code",
   "execution_count": 2,
   "metadata": {},
   "outputs": [
    {
     "name": "stdout",
     "output_type": "stream",
     "text": [
      "2 15\n"
     ]
    }
   ],
   "source": [
    "with open(\"DataFiles/input.1text\",\"a\") as ft:\n",
    "    p = input()\n",
    "    ft.write(p+\"\\n\")"
   ]
  },
  {
   "cell_type": "code",
   "execution_count": 7,
   "metadata": {},
   "outputs": [
    {
     "name": "stdout",
     "output_type": "stream",
     "text": [
      "2 10\n",
      "2 10 <class 'str'>\n",
      "0 <class 'str'>\n"
     ]
    }
   ],
   "source": [
    "n = input()\n",
    "print(n,type(n))\n",
    "t = n[3]\n",
    "print(t,type(t))\n",
    "#r = int(n,[1])\n",
    "#print(r,type(r))\n",
    "#print(t,r)\n"
   ]
  },
  {
   "cell_type": "code",
   "execution_count": 9,
   "metadata": {},
   "outputs": [
    {
     "name": "stdout",
     "output_type": "stream",
     "text": [
      "5 15\n",
      "5 X 01 = 05\n",
      "5 X 02 = 10\n",
      "5 X 03 = 15\n",
      "5 X 04 = 20\n",
      "5 X 05 = 25\n",
      "5 X 06 = 30\n",
      "5 X 07 = 35\n",
      "5 X 08 = 40\n",
      "5 X 09 = 45\n",
      "5 X 10 = 50\n",
      "5 X 11 = 55\n",
      "5 X 12 = 60\n",
      "5 X 13 = 65\n",
      "5 X 14 = 70\n",
      "5 X 15 = 75\n"
     ]
    }
   ],
   "source": [
    "n = input().split()\n",
    "t = int(n[0])\n",
    "r = int(n[1])\n",
    "for i in range(1,r+1):\n",
    "    print(\"{} X {:02} = {:02}\".format(t,i,t*i))"
   ]
  },
  {
   "cell_type": "code",
   "execution_count": 23,
   "metadata": {},
   "outputs": [
    {
     "ename": "FileNotFoundError",
     "evalue": "[Errno 2] No such file or directory: 'DataFiles/input1.text'",
     "output_type": "error",
     "traceback": [
      "\u001b[1;31m---------------------------------------------------------------------------\u001b[0m",
      "\u001b[1;31mFileNotFoundError\u001b[0m                         Traceback (most recent call last)",
      "\u001b[1;32m<ipython-input-23-47dafffd1d83>\u001b[0m in \u001b[0;36m<module>\u001b[1;34m\u001b[0m\n\u001b[1;32m----> 1\u001b[1;33m \u001b[1;32mwith\u001b[0m \u001b[0mopen\u001b[0m\u001b[1;33m(\u001b[0m\u001b[1;34m\"DataFiles/input1.text\"\u001b[0m\u001b[1;33m,\u001b[0m\u001b[1;34m\"r\"\u001b[0m\u001b[1;33m)\u001b[0m \u001b[1;32mas\u001b[0m \u001b[0mfr\u001b[0m\u001b[1;33m:\u001b[0m\u001b[1;33m\u001b[0m\u001b[1;33m\u001b[0m\u001b[0m\n\u001b[0m\u001b[0;32m      2\u001b[0m     \u001b[0mr\u001b[0m \u001b[1;33m=\u001b[0m \u001b[0mfr\u001b[0m\u001b[1;33m.\u001b[0m\u001b[0mreadlines\u001b[0m\u001b[1;33m(\u001b[0m\u001b[1;33m)\u001b[0m\u001b[1;33m\u001b[0m\u001b[1;33m\u001b[0m\u001b[0m\n\u001b[0;32m      3\u001b[0m     \u001b[1;32mfor\u001b[0m \u001b[0mt\u001b[0m \u001b[1;32min\u001b[0m \u001b[0mr\u001b[0m\u001b[1;33m:\u001b[0m\u001b[1;33m\u001b[0m\u001b[1;33m\u001b[0m\u001b[0m\n\u001b[0;32m      4\u001b[0m         \u001b[0my\u001b[0m \u001b[1;33m=\u001b[0m \u001b[0mt\u001b[0m\u001b[1;33m.\u001b[0m\u001b[0msplit\u001b[0m\u001b[1;33m(\u001b[0m\u001b[1;34m\"\\n\"\u001b[0m\u001b[1;33m)\u001b[0m\u001b[1;33m[\u001b[0m\u001b[1;36m0\u001b[0m\u001b[1;33m]\u001b[0m\u001b[1;33m\u001b[0m\u001b[1;33m\u001b[0m\u001b[0m\n\u001b[0;32m      5\u001b[0m         \u001b[0mp\u001b[0m \u001b[1;33m=\u001b[0m \u001b[0my\u001b[0m\u001b[1;33m.\u001b[0m\u001b[0msplit\u001b[0m\u001b[1;33m(\u001b[0m\u001b[1;33m)\u001b[0m\u001b[1;33m\u001b[0m\u001b[1;33m\u001b[0m\u001b[0m\n",
      "\u001b[1;31mFileNotFoundError\u001b[0m: [Errno 2] No such file or directory: 'DataFiles/input1.text'"
     ]
    }
   ],
   "source": [
    "with open(\"DataFiles/input1.text\",\"r\") as fr:\n",
    "    r = fr.readlines()\n",
    "    for t in r:\n",
    "        y = t.split(\"\\n\")[0]\n",
    "        p = y.split()\n",
    "        ta = int(p[0])\n",
    "        ra = int(p[1])\n",
    "        m =\"\"\n",
    "        with open(\"DataFiles/output1.text\",\"a\") as fp:\n",
    "            for j in range(1,ra+1):\n",
    "                m = m+\"{} x {:02} = {:02}\".format(ta,j,ta*j)+\"\\n\"\n",
    "                fp.write(\"\\n\")\n",
    "                fp.write(m)"
   ]
  },
  {
   "cell_type": "code",
   "execution_count": null,
   "metadata": {},
   "outputs": [],
   "source": [
    "studentsmarks.text:\n",
    "    ------------------------------------------------------\n",
    "    s.no     name   math  physics chemistry hindi telugu\n",
    "    -------------------------------------------------------\n",
    "    01       raju    45      56       67      56     78\n",
    "    02       suresh  50      67       90      45     23 \n",
    "    ------------------------------------------------------"
   ]
  }
 ],
 "metadata": {
  "kernelspec": {
   "display_name": "Python 3",
   "language": "python",
   "name": "python3"
  },
  "language_info": {
   "codemirror_mode": {
    "name": "ipython",
    "version": 3
   },
   "file_extension": ".py",
   "mimetype": "text/x-python",
   "name": "python",
   "nbconvert_exporter": "python",
   "pygments_lexer": "ipython3",
   "version": "3.7.4"
  }
 },
 "nbformat": 4,
 "nbformat_minor": 4
}
